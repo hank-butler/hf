{
 "cells": [
  {
   "cell_type": "code",
   "execution_count": 1,
   "metadata": {},
   "outputs": [],
   "source": [
    "import pandas as pd\n",
    "import numpy as np\n",
    "import matplotlib.pyplot as plt\n",
    "from statsmodels.tsa.arima_model import ARIMA, ARMA\n",
    "from statsmodels.tsa.statespace.sarimax import SARIMAX\n",
    "import pmdarima as pm\n",
    "\n",
    "from utils import kraken_ex as kex"
   ]
  },
  {
   "cell_type": "code",
   "execution_count": 2,
   "metadata": {},
   "outputs": [
    {
     "name": "stdout",
     "output_type": "stream",
     "text": [
      "github is driving me nuts\n"
     ]
    }
   ],
   "source": [
    "print('github is driving me nuts')"
   ]
  },
  {
   "cell_type": "code",
   "execution_count": 2,
   "metadata": {},
   "outputs": [
    {
     "name": "stdout",
     "output_type": "stream",
     "text": [
      "Pulled _BTC at 2021-10-18 20:41:24.028601\n"
     ]
    },
    {
     "data": {
      "text/html": [
       "<div>\n",
       "<style scoped>\n",
       "    .dataframe tbody tr th:only-of-type {\n",
       "        vertical-align: middle;\n",
       "    }\n",
       "\n",
       "    .dataframe tbody tr th {\n",
       "        vertical-align: top;\n",
       "    }\n",
       "\n",
       "    .dataframe thead th {\n",
       "        text-align: right;\n",
       "    }\n",
       "</style>\n",
       "<table border=\"1\" class=\"dataframe\">\n",
       "  <thead>\n",
       "    <tr style=\"text-align: right;\">\n",
       "      <th></th>\n",
       "      <th>time</th>\n",
       "      <th>open_BTC</th>\n",
       "      <th>high_BTC</th>\n",
       "      <th>low_BTC</th>\n",
       "      <th>close_BTC</th>\n",
       "      <th>vwap_BTC</th>\n",
       "      <th>volume_BTC</th>\n",
       "      <th>count_BTC</th>\n",
       "      <th>log_high_BTC</th>\n",
       "      <th>log_low_BTC</th>\n",
       "      <th>log_vwap_BTC</th>\n",
       "    </tr>\n",
       "    <tr>\n",
       "      <th>dtime</th>\n",
       "      <th></th>\n",
       "      <th></th>\n",
       "      <th></th>\n",
       "      <th></th>\n",
       "      <th></th>\n",
       "      <th></th>\n",
       "      <th></th>\n",
       "      <th></th>\n",
       "      <th></th>\n",
       "      <th></th>\n",
       "      <th></th>\n",
       "    </tr>\n",
       "  </thead>\n",
       "  <tbody>\n",
       "    <tr>\n",
       "      <th>2021-10-19</th>\n",
       "      <td>1634601600</td>\n",
       "      <td>62009.6</td>\n",
       "      <td>62287.0</td>\n",
       "      <td>61692.9</td>\n",
       "      <td>61781.8</td>\n",
       "      <td>61947.0</td>\n",
       "      <td>213.622508</td>\n",
       "      <td>2582</td>\n",
       "      <td>11.039508</td>\n",
       "      <td>11.029924</td>\n",
       "      <td>11.034034</td>\n",
       "    </tr>\n",
       "    <tr>\n",
       "      <th>2021-10-18</th>\n",
       "      <td>1634515200</td>\n",
       "      <td>61526.1</td>\n",
       "      <td>62672.6</td>\n",
       "      <td>59900.0</td>\n",
       "      <td>62037.7</td>\n",
       "      <td>61711.6</td>\n",
       "      <td>3406.190564</td>\n",
       "      <td>35225</td>\n",
       "      <td>11.045680</td>\n",
       "      <td>11.000432</td>\n",
       "      <td>11.030227</td>\n",
       "    </tr>\n",
       "    <tr>\n",
       "      <th>2021-10-17</th>\n",
       "      <td>1634428800</td>\n",
       "      <td>60868.5</td>\n",
       "      <td>61674.3</td>\n",
       "      <td>58900.2</td>\n",
       "      <td>61526.5</td>\n",
       "      <td>60535.8</td>\n",
       "      <td>2142.264440</td>\n",
       "      <td>28374</td>\n",
       "      <td>11.029623</td>\n",
       "      <td>10.983600</td>\n",
       "      <td>11.010990</td>\n",
       "    </tr>\n",
       "    <tr>\n",
       "      <th>2021-10-16</th>\n",
       "      <td>1634342400</td>\n",
       "      <td>61669.8</td>\n",
       "      <td>62400.0</td>\n",
       "      <td>60162.0</td>\n",
       "      <td>60873.4</td>\n",
       "      <td>61210.1</td>\n",
       "      <td>1963.728064</td>\n",
       "      <td>24961</td>\n",
       "      <td>11.041321</td>\n",
       "      <td>11.004796</td>\n",
       "      <td>11.022067</td>\n",
       "    </tr>\n",
       "    <tr>\n",
       "      <th>2021-10-15</th>\n",
       "      <td>1634256000</td>\n",
       "      <td>57357.1</td>\n",
       "      <td>62887.5</td>\n",
       "      <td>56888.5</td>\n",
       "      <td>61656.2</td>\n",
       "      <td>60314.9</td>\n",
       "      <td>5171.657687</td>\n",
       "      <td>53746</td>\n",
       "      <td>11.049103</td>\n",
       "      <td>10.948848</td>\n",
       "      <td>11.007334</td>\n",
       "    </tr>\n",
       "  </tbody>\n",
       "</table>\n",
       "</div>"
      ],
      "text/plain": [
       "                  time  open_BTC  high_BTC  low_BTC  close_BTC  vwap_BTC  \\\n",
       "dtime                                                                      \n",
       "2021-10-19  1634601600   62009.6   62287.0  61692.9    61781.8   61947.0   \n",
       "2021-10-18  1634515200   61526.1   62672.6  59900.0    62037.7   61711.6   \n",
       "2021-10-17  1634428800   60868.5   61674.3  58900.2    61526.5   60535.8   \n",
       "2021-10-16  1634342400   61669.8   62400.0  60162.0    60873.4   61210.1   \n",
       "2021-10-15  1634256000   57357.1   62887.5  56888.5    61656.2   60314.9   \n",
       "\n",
       "             volume_BTC  count_BTC  log_high_BTC  log_low_BTC  log_vwap_BTC  \n",
       "dtime                                                                        \n",
       "2021-10-19   213.622508       2582     11.039508    11.029924     11.034034  \n",
       "2021-10-18  3406.190564      35225     11.045680    11.000432     11.030227  \n",
       "2021-10-17  2142.264440      28374     11.029623    10.983600     11.010990  \n",
       "2021-10-16  1963.728064      24961     11.041321    11.004796     11.022067  \n",
       "2021-10-15  5171.657687      53746     11.049103    10.948848     11.007334  "
      ]
     },
     "execution_count": 2,
     "metadata": {},
     "output_type": "execute_result"
    }
   ],
   "source": [
    "btc = kex.pull_data('BTC')\n",
    "\n",
    "btc.head()"
   ]
  },
  {
   "cell_type": "code",
   "execution_count": 4,
   "metadata": {},
   "outputs": [
    {
     "ename": "TypeError",
     "evalue": "acf() got an unexpected keyword argument 'unbiased'",
     "output_type": "error",
     "traceback": [
      "\u001b[0;31m---------------------------------------------------------------------------\u001b[0m",
      "\u001b[0;31mTypeError\u001b[0m                                 Traceback (most recent call last)",
      "\u001b[0;32m<ipython-input-4-4f3c4a21d8ef>\u001b[0m in \u001b[0;36m<module>\u001b[0;34m\u001b[0m\n\u001b[1;32m      1\u001b[0m \u001b[0;32mimport\u001b[0m \u001b[0mpmdarima\u001b[0m \u001b[0;32mas\u001b[0m \u001b[0mpm\u001b[0m\u001b[0;34m\u001b[0m\u001b[0;34m\u001b[0m\u001b[0m\n\u001b[1;32m      2\u001b[0m \u001b[0;34m\u001b[0m\u001b[0m\n\u001b[0;32m----> 3\u001b[0;31m \u001b[0mpm\u001b[0m\u001b[0;34m.\u001b[0m\u001b[0macf\u001b[0m\u001b[0;34m(\u001b[0m\u001b[0mbtc\u001b[0m\u001b[0;34m)\u001b[0m\u001b[0;34m\u001b[0m\u001b[0;34m\u001b[0m\u001b[0m\n\u001b[0m",
      "\u001b[0;32m~/opt/anaconda3/lib/python3.8/site-packages/pmdarima/utils/wrapped.py\u001b[0m in \u001b[0;36mcaller\u001b[0;34m(*args, **kwargs)\u001b[0m\n\u001b[1;32m     49\u001b[0m         \u001b[0;34m@\u001b[0m\u001b[0mwraps\u001b[0m\u001b[0;34m(\u001b[0m\u001b[0mfunc\u001b[0m\u001b[0;34m)\u001b[0m\u001b[0;34m\u001b[0m\u001b[0;34m\u001b[0m\u001b[0m\n\u001b[1;32m     50\u001b[0m         \u001b[0;32mdef\u001b[0m \u001b[0mcaller\u001b[0m\u001b[0;34m(\u001b[0m\u001b[0;34m*\u001b[0m\u001b[0margs\u001b[0m\u001b[0;34m,\u001b[0m \u001b[0;34m**\u001b[0m\u001b[0mkwargs\u001b[0m\u001b[0;34m)\u001b[0m\u001b[0;34m:\u001b[0m\u001b[0;34m\u001b[0m\u001b[0;34m\u001b[0m\u001b[0m\n\u001b[0;32m---> 51\u001b[0;31m             \u001b[0;32mreturn\u001b[0m \u001b[0mfunc\u001b[0m\u001b[0;34m(\u001b[0m\u001b[0;34m*\u001b[0m\u001b[0margs\u001b[0m\u001b[0;34m,\u001b[0m \u001b[0;34m**\u001b[0m\u001b[0mkwargs\u001b[0m\u001b[0;34m)\u001b[0m\u001b[0;34m\u001b[0m\u001b[0;34m\u001b[0m\u001b[0m\n\u001b[0m\u001b[1;32m     52\u001b[0m         \u001b[0;32mreturn\u001b[0m \u001b[0mcaller\u001b[0m\u001b[0;34m\u001b[0m\u001b[0;34m\u001b[0m\u001b[0m\n\u001b[1;32m     53\u001b[0m     \u001b[0;32mreturn\u001b[0m \u001b[0mwrapper\u001b[0m\u001b[0;34m\u001b[0m\u001b[0;34m\u001b[0m\u001b[0m\n",
      "\u001b[0;32m~/opt/anaconda3/lib/python3.8/site-packages/pmdarima/utils/wrapped.py\u001b[0m in \u001b[0;36macf\u001b[0;34m(x, unbiased, nlags, qstat, fft, alpha, missing)\u001b[0m\n\u001b[1;32m     57\u001b[0m def acf(x, unbiased=False, nlags=40, qstat=False, fft=False,\n\u001b[1;32m     58\u001b[0m         alpha=None, missing='none'):\n\u001b[0;32m---> 59\u001b[0;31m     return sm_acf(x=x, unbiased=unbiased, nlags=nlags,\n\u001b[0m\u001b[1;32m     60\u001b[0m                   \u001b[0mqstat\u001b[0m\u001b[0;34m=\u001b[0m\u001b[0mqstat\u001b[0m\u001b[0;34m,\u001b[0m \u001b[0mfft\u001b[0m\u001b[0;34m=\u001b[0m\u001b[0mfft\u001b[0m\u001b[0;34m,\u001b[0m \u001b[0malpha\u001b[0m\u001b[0;34m=\u001b[0m\u001b[0malpha\u001b[0m\u001b[0;34m,\u001b[0m\u001b[0;34m\u001b[0m\u001b[0;34m\u001b[0m\u001b[0m\n\u001b[1;32m     61\u001b[0m                   missing=missing)\n",
      "\u001b[0;31mTypeError\u001b[0m: acf() got an unexpected keyword argument 'unbiased'"
     ]
    }
   ],
   "source": [
    "import pmdarima as pm\n",
    "\n",
    "pm.acf(btc)"
   ]
  },
  {
   "cell_type": "code",
   "execution_count": 6,
   "metadata": {},
   "outputs": [],
   "source": [
    "btc_forecast = pm.auto_arima(btc['vwap_BTC'],\n",
    "                            start_p = 1,\n",
    "                            start_q = 1,\n",
    "                            max_p = 5,\n",
    "                            max_q = 5,\n",
    "                            d = 1,\n",
    "                            error_action = 'ignore',\n",
    "                            suppress_warnings = True,\n",
    "                            stepwise = True)"
   ]
  },
  {
   "cell_type": "code",
   "execution_count": 7,
   "metadata": {},
   "outputs": [
    {
     "data": {
      "text/html": [
       "<table class=\"simpletable\">\n",
       "<caption>SARIMAX Results</caption>\n",
       "<tr>\n",
       "  <th>Dep. Variable:</th>           <td>y</td>        <th>  No. Observations:  </th>    <td>720</td>   \n",
       "</tr>\n",
       "<tr>\n",
       "  <th>Model:</th>           <td>SARIMAX(0, 1, 1)</td> <th>  Log Likelihood     </th> <td>-6039.290</td>\n",
       "</tr>\n",
       "<tr>\n",
       "  <th>Date:</th>            <td>Mon, 18 Oct 2021</td> <th>  AIC                </th> <td>12084.580</td>\n",
       "</tr>\n",
       "<tr>\n",
       "  <th>Time:</th>                <td>20:43:40</td>     <th>  BIC                </th> <td>12098.314</td>\n",
       "</tr>\n",
       "<tr>\n",
       "  <th>Sample:</th>                  <td>0</td>        <th>  HQIC               </th> <td>12089.883</td>\n",
       "</tr>\n",
       "<tr>\n",
       "  <th></th>                      <td> - 720</td>      <th>                     </th>     <td> </td>    \n",
       "</tr>\n",
       "<tr>\n",
       "  <th>Covariance Type:</th>        <td>opg</td>       <th>                     </th>     <td> </td>    \n",
       "</tr>\n",
       "</table>\n",
       "<table class=\"simpletable\">\n",
       "<tr>\n",
       "      <td></td>         <th>coef</th>     <th>std err</th>      <th>z</th>      <th>P>|z|</th>  <th>[0.025</th>    <th>0.975]</th>  \n",
       "</tr>\n",
       "<tr>\n",
       "  <th>intercept</th> <td>  -63.0920</td> <td>   43.231</td> <td>   -1.459</td> <td> 0.144</td> <td> -147.823</td> <td>   21.639</td>\n",
       "</tr>\n",
       "<tr>\n",
       "  <th>ma.L1</th>     <td>    0.0674</td> <td>    0.012</td> <td>    5.460</td> <td> 0.000</td> <td>    0.043</td> <td>    0.092</td>\n",
       "</tr>\n",
       "<tr>\n",
       "  <th>sigma2</th>    <td> 1.142e+06</td> <td> 3.11e+04</td> <td>   36.700</td> <td> 0.000</td> <td> 1.08e+06</td> <td>  1.2e+06</td>\n",
       "</tr>\n",
       "</table>\n",
       "<table class=\"simpletable\">\n",
       "<tr>\n",
       "  <th>Ljung-Box (L1) (Q):</th>     <td>6.13</td> <th>  Jarque-Bera (JB):  </th> <td>1015.22</td>\n",
       "</tr>\n",
       "<tr>\n",
       "  <th>Prob(Q):</th>                <td>0.01</td> <th>  Prob(JB):          </th>  <td>0.00</td>  \n",
       "</tr>\n",
       "<tr>\n",
       "  <th>Heteroskedasticity (H):</th> <td>0.03</td> <th>  Skew:              </th>  <td>0.59</td>  \n",
       "</tr>\n",
       "<tr>\n",
       "  <th>Prob(H) (two-sided):</th>    <td>0.00</td> <th>  Kurtosis:          </th>  <td>8.70</td>  \n",
       "</tr>\n",
       "</table><br/><br/>Warnings:<br/>[1] Covariance matrix calculated using the outer product of gradients (complex-step)."
      ],
      "text/plain": [
       "<class 'statsmodels.iolib.summary.Summary'>\n",
       "\"\"\"\n",
       "                               SARIMAX Results                                \n",
       "==============================================================================\n",
       "Dep. Variable:                      y   No. Observations:                  720\n",
       "Model:               SARIMAX(0, 1, 1)   Log Likelihood               -6039.290\n",
       "Date:                Mon, 18 Oct 2021   AIC                          12084.580\n",
       "Time:                        20:43:40   BIC                          12098.314\n",
       "Sample:                             0   HQIC                         12089.883\n",
       "                                - 720                                         \n",
       "Covariance Type:                  opg                                         \n",
       "==============================================================================\n",
       "                 coef    std err          z      P>|z|      [0.025      0.975]\n",
       "------------------------------------------------------------------------------\n",
       "intercept    -63.0920     43.231     -1.459      0.144    -147.823      21.639\n",
       "ma.L1          0.0674      0.012      5.460      0.000       0.043       0.092\n",
       "sigma2      1.142e+06   3.11e+04     36.700      0.000    1.08e+06     1.2e+06\n",
       "===================================================================================\n",
       "Ljung-Box (L1) (Q):                   6.13   Jarque-Bera (JB):              1015.22\n",
       "Prob(Q):                              0.01   Prob(JB):                         0.00\n",
       "Heteroskedasticity (H):               0.03   Skew:                             0.59\n",
       "Prob(H) (two-sided):                  0.00   Kurtosis:                         8.70\n",
       "===================================================================================\n",
       "\n",
       "Warnings:\n",
       "[1] Covariance matrix calculated using the outer product of gradients (complex-step).\n",
       "\"\"\""
      ]
     },
     "execution_count": 7,
     "metadata": {},
     "output_type": "execute_result"
    }
   ],
   "source": [
    "btc_forecast.summary()"
   ]
  },
  {
   "cell_type": "code",
   "execution_count": 9,
   "metadata": {},
   "outputs": [
    {
     "name": "stdout",
     "output_type": "stream",
     "text": [
      "Performing stepwise search to minimize aic\n",
      " ARIMA(2,1,2)(1,0,1)[12] intercept   : AIC=2915.873, Time=0.12 sec\n",
      " ARIMA(0,1,0)(0,0,0)[12] intercept   : AIC=3049.597, Time=0.01 sec\n",
      " ARIMA(1,1,0)(1,0,0)[12] intercept   : AIC=2954.975, Time=0.04 sec\n",
      " ARIMA(0,1,1)(0,0,1)[12] intercept   : AIC=2947.028, Time=0.04 sec\n",
      " ARIMA(0,1,0)(0,0,0)[12]             : AIC=3047.612, Time=0.01 sec\n",
      " ARIMA(2,1,2)(0,0,1)[12] intercept   : AIC=2940.108, Time=0.07 sec\n",
      " ARIMA(2,1,2)(1,0,0)[12] intercept   : AIC=2915.651, Time=0.06 sec\n",
      " ARIMA(2,1,2)(0,0,0)[12] intercept   : AIC=2986.348, Time=0.03 sec\n",
      " ARIMA(2,1,2)(2,0,0)[12] intercept   : AIC=2915.275, Time=0.29 sec\n",
      " ARIMA(2,1,2)(2,0,1)[12] intercept   : AIC=2918.411, Time=0.28 sec\n",
      " ARIMA(1,1,2)(2,0,0)[12] intercept   : AIC=2925.080, Time=0.31 sec\n",
      " ARIMA(2,1,1)(2,0,0)[12] intercept   : AIC=2911.330, Time=0.21 sec\n",
      " ARIMA(2,1,1)(1,0,0)[12] intercept   : AIC=2911.555, Time=0.07 sec\n",
      " ARIMA(2,1,1)(2,0,1)[12] intercept   : AIC=2914.196, Time=0.25 sec\n",
      " ARIMA(2,1,1)(1,0,1)[12] intercept   : AIC=2912.289, Time=0.07 sec\n",
      " ARIMA(1,1,1)(2,0,0)[12] intercept   : AIC=2920.327, Time=0.19 sec\n",
      " ARIMA(2,1,0)(2,0,0)[12] intercept   : AIC=2928.273, Time=0.21 sec\n",
      " ARIMA(3,1,1)(2,0,0)[12] intercept   : AIC=2912.939, Time=0.23 sec\n",
      " ARIMA(1,1,0)(2,0,0)[12] intercept   : AIC=2954.804, Time=0.17 sec\n",
      " ARIMA(3,1,0)(2,0,0)[12] intercept   : AIC=2914.414, Time=0.28 sec\n",
      " ARIMA(3,1,2)(2,0,0)[12] intercept   : AIC=2915.331, Time=0.29 sec\n",
      " ARIMA(2,1,1)(2,0,0)[12]             : AIC=2908.221, Time=0.21 sec\n",
      " ARIMA(2,1,1)(1,0,0)[12]             : AIC=2909.011, Time=0.08 sec\n",
      " ARIMA(2,1,1)(2,0,1)[12]             : AIC=2910.144, Time=0.23 sec\n",
      " ARIMA(2,1,1)(1,0,1)[12]             : AIC=2908.093, Time=0.11 sec\n",
      " ARIMA(2,1,1)(0,0,1)[12]             : AIC=2933.343, Time=0.06 sec\n",
      " ARIMA(2,1,1)(1,0,2)[12]             : AIC=2910.039, Time=0.29 sec\n",
      " ARIMA(2,1,1)(0,0,0)[12]             : AIC=2980.096, Time=0.02 sec\n",
      " ARIMA(2,1,1)(0,0,2)[12]             : AIC=2921.090, Time=0.30 sec\n",
      " ARIMA(2,1,1)(2,0,2)[12]             : AIC=2912.081, Time=0.32 sec\n",
      " ARIMA(1,1,1)(1,0,1)[12]             : AIC=2915.531, Time=0.07 sec\n",
      " ARIMA(2,1,0)(1,0,1)[12]             : AIC=2925.551, Time=0.07 sec\n",
      " ARIMA(3,1,1)(1,0,1)[12]             : AIC=2911.034, Time=0.11 sec\n",
      " ARIMA(2,1,2)(1,0,1)[12]             : AIC=2913.397, Time=0.10 sec\n",
      " ARIMA(1,1,0)(1,0,1)[12]             : AIC=2952.580, Time=0.05 sec\n",
      " ARIMA(1,1,2)(1,0,1)[12]             : AIC=2922.527, Time=0.08 sec\n",
      " ARIMA(3,1,0)(1,0,1)[12]             : AIC=2912.590, Time=0.10 sec\n",
      " ARIMA(3,1,2)(1,0,1)[12]             : AIC=2913.867, Time=0.10 sec\n",
      "\n",
      "Best model:  ARIMA(2,1,1)(1,0,1)[12]          \n",
      "Total fit time: 5.576 seconds\n"
     ]
    },
    {
     "data": {
      "image/png": "[encoded data removed]",
      "text/plain": [
       "<Figure size 432x288 with 1 Axes>"
      ]
     },
     "metadata": {
      "needs_background": "light"
     },
     "output_type": "display_data"
    }
   ],
   "source": [
    "import pmdarima as pm\n",
    "from pmdarima import model_selection\n",
    "import numpy as np\n",
    "from matplotlib import pyplot as plt\n",
    "\n",
    "# #############################################################################\n",
    "# Load the data and split it into separate pieces\n",
    "data = pm.datasets.load_wineind()\n",
    "train, test = model_selection.train_test_split(data, train_size=150)\n",
    "\n",
    "# Fit a simple auto_arima model\n",
    "arima = pm.auto_arima(train, error_action='ignore', trace=True,\n",
    "                      suppress_warnings=True, maxiter=5,\n",
    "                      seasonal=True, m=12)\n",
    "\n",
    "# #############################################################################\n",
    "# Plot actual test vs. forecasts:\n",
    "x = np.arange(test.shape[0])\n",
    "plt.scatter(x, test, marker='x')\n",
    "plt.plot(x, arima.predict(n_periods=test.shape[0]))\n",
    "plt.title('Actual test samples vs. forecasts')\n",
    "plt.show()"
   ]
  },
  {
   "cell_type": "code",
   "execution_count": 10,
   "metadata": {},
   "outputs": [
    {
     "data": {
      "text/plain": [
       "(720, 11)"
      ]
     },
     "execution_count": 10,
     "metadata": {},
     "output_type": "execute_result"
    }
   ],
   "source": [
    "btc.shape"
   ]
  },
  {
   "cell_type": "code",
   "execution_count": 11,
   "metadata": {},
   "outputs": [],
   "source": [
    "import pmdarima as pm\n",
    "from pmdarima import model_selection\n",
    "from sklearn.metrics import mean_squared_error"
   ]
  },
  {
   "cell_type": "code",
   "execution_count": 20,
   "metadata": {},
   "outputs": [
    {
     "data": {
      "text/plain": [
       "540.0"
      ]
     },
     "execution_count": 20,
     "metadata": {},
     "output_type": "execute_result"
    }
   ],
   "source": [
    "720*0.75"
   ]
  },
  {
   "cell_type": "code",
   "execution_count": 29,
   "metadata": {},
   "outputs": [],
   "source": [
    "train, test = model_selection.train_test_split(btc['vwap_BTC'], train_size = 540)"
   ]
  },
  {
   "cell_type": "code",
   "execution_count": 30,
   "metadata": {},
   "outputs": [],
   "source": [
    "from sklearn.model_selection import train_test_split"
   ]
  },
  {
   "cell_type": "code",
   "execution_count": 31,
   "metadata": {},
   "outputs": [
    {
     "name": "stdout",
     "output_type": "stream",
     "text": [
      "(540,)\n",
      "(180,)\n"
     ]
    }
   ],
   "source": [
    "train, test = train_test_split(btc['vwap_BTC'], test_size = 0.25,\n",
    "                              shuffle = False)\n",
    "\n",
    "print(train.shape)\n",
    "print(test.shape)\n",
    "\n",
    "assert train.shape[0] + test.shape[0] == btc.shape[0]"
   ]
  },
  {
   "cell_type": "code",
   "execution_count": 32,
   "metadata": {},
   "outputs": [
    {
     "name": "stdout",
     "output_type": "stream",
     "text": [
      "Test RMSE: 9504.450\n"
     ]
    }
   ],
   "source": [
    "modl = pm.auto_arima(train,\n",
    "                    start_p = 1,\n",
    "                    start_q = 1,\n",
    "                    max_p = 5,\n",
    "                    max_q = 5,\n",
    "                    stepwise = True,\n",
    "                    suppress_warnings=True,\n",
    "                    error_action = 'ignore')\n",
    "\n",
    "preds, conf_int = modl.predict(n_periods = test.shape[0],\n",
    "                              return_conf_int = True)\n",
    "\n",
    "print(f'Test RMSE: {np.sqrt(mean_squared_error(test, preds)):.3f}')"
   ]
  },
  {
   "cell_type": "code",
   "execution_count": 33,
   "metadata": {},
   "outputs": [
    {
     "data": {
      "text/plain": [
       "[<matplotlib.lines.Line2D at 0x7fd665d60cd0>]"
      ]
     },
     "execution_count": 33,
     "metadata": {},
     "output_type": "execute_result"
    },
    {
     "data": {
      "image/png": "[encoded data removed]",
      "text/plain": [
       "<Figure size 432x288 with 1 Axes>"
      ]
     },
     "metadata": {
      "needs_background": "light"
     },
     "output_type": "display_data"
    }
   ],
   "source": [
    "'''\n",
    "x_axis = np.arange(train.shape[0] + preds.shape[0])\n",
    "\n",
    "plt.plot(btc[x_axis[:train.shape[0]]], train, alpha = 0.75)\n",
    "plt.plot(btc[x_axis[train.shape[0]:]], preds, alpha = 0.75)\n",
    "\n",
    "plt.fill_between(btc[x_axis[-preds.shape[0]:]],\n",
    "                conf_int[:, 0],\n",
    "                conf_int[:, 1],\n",
    "                alpha = 0.1,\n",
    "                color = 'b')\n",
    "'''\n",
    "\n",
    "plt.plot(train.index, train)\n",
    "plt.plot(test.index, preds)"
   ]
  },
  {
   "cell_type": "code",
   "execution_count": 34,
   "metadata": {},
   "outputs": [
    {
     "data": {
      "text/plain": [
       "dtime\n",
       "2021-10-19    61947.0\n",
       "2021-10-18    61711.6\n",
       "2021-10-17    60535.8\n",
       "2021-10-16    61210.1\n",
       "2021-10-15    60314.9\n",
       "Freq: -1440T, Name: vwap_BTC, dtype: float64"
      ]
     },
     "execution_count": 34,
     "metadata": {},
     "output_type": "execute_result"
    }
   ],
   "source": [
    "train.head()"
   ]
  },
  {
   "cell_type": "code",
   "execution_count": 35,
   "metadata": {},
   "outputs": [
    {
     "data": {
      "text/plain": [
       "dtime\n",
       "2020-04-27    7716.1\n",
       "2020-04-26    7613.5\n",
       "2020-04-25    7557.8\n",
       "2020-04-24    7516.0\n",
       "2020-04-23    7413.9\n",
       "Freq: -1440T, Name: vwap_BTC, dtype: float64"
      ]
     },
     "execution_count": 35,
     "metadata": {},
     "output_type": "execute_result"
    }
   ],
   "source": [
    "test.head()"
   ]
  },
  {
   "cell_type": "code",
   "execution_count": 36,
   "metadata": {},
   "outputs": [
    {
     "name": "stdout",
     "output_type": "stream",
     "text": [
      "Test RMSE: 1258.625\n"
     ]
    },
    {
     "data": {
      "text/plain": [
       "Text(0.5, 0, 'Year')"
      ]
     },
     "execution_count": 36,
     "metadata": {},
     "output_type": "execute_result"
    },
    {
     "data": {
      "image/png": "[encoded data removed]",
      "text/plain": [
       "<Figure size 432x288 with 1 Axes>"
      ]
     },
     "metadata": {
      "needs_background": "light"
     },
     "output_type": "display_data"
    }
   ],
   "source": [
    "import pmdarima as pm\n",
    "from pmdarima import model_selection\n",
    "from sklearn.metrics import mean_squared_error\n",
    "import matplotlib.pyplot as plt\n",
    "import numpy as np\n",
    "\n",
    "# #############################################################################\n",
    "# Load the data and split it into separate pieces\n",
    "data = pm.datasets.load_lynx()\n",
    "train, test = model_selection.train_test_split(data, train_size=90)\n",
    "\n",
    "# Fit a simple auto_arima model\n",
    "modl = pm.auto_arima(train, start_p=1, start_q=1, start_P=1, start_Q=1,\n",
    "                     max_p=5, max_q=5, max_P=5, max_Q=5, seasonal=True,\n",
    "                     stepwise=True, suppress_warnings=True, D=10, max_D=10,\n",
    "                     error_action='ignore')\n",
    "\n",
    "# Create predictions for the future, evaluate on test\n",
    "preds, conf_int = modl.predict(n_periods=test.shape[0], return_conf_int=True)\n",
    "\n",
    "# Print the error:\n",
    "print(\"Test RMSE: %.3f\" % np.sqrt(mean_squared_error(test, preds)))\n",
    "\n",
    "# #############################################################################\n",
    "# Plot the points and the forecasts\n",
    "x_axis = np.arange(train.shape[0] + preds.shape[0])\n",
    "x_years = x_axis + 1821  # Year starts at 1821\n",
    "\n",
    "plt.plot(x_years[x_axis[:train.shape[0]]], train, alpha=0.75)\n",
    "plt.plot(x_years[x_axis[train.shape[0]:]], preds, alpha=0.75)  # Forecasts\n",
    "plt.scatter(x_years[x_axis[train.shape[0]:]], test,\n",
    "            alpha=0.4, marker='x')  # Test data\n",
    "plt.fill_between(x_years[x_axis[-preds.shape[0]:]],\n",
    "                 conf_int[:, 0], conf_int[:, 1],\n",
    "                 alpha=0.1, color='b')\n",
    "plt.title(\"Lynx forecasts\")\n",
    "plt.xlabel(\"Year\")"
   ]
  },
  {
   "cell_type": "code",
   "execution_count": null,
   "metadata": {},
   "outputs": [],
   "source": []
  }
 ],
 "metadata": {
  "kernelspec": {
   "display_name": "Python 3",
   "language": "python",
   "name": "python3"
  },
  "language_info": {
   "codemirror_mode": {
    "name": "ipython",
    "version": 3
   },
   "file_extension": ".py",
   "mimetype": "text/x-python",
   "name": "python",
   "nbconvert_exporter": "python",
   "pygments_lexer": "ipython3",
   "version": "3.8.5"
  }
 },
 "nbformat": 4,
 "nbformat_minor": 4
}
