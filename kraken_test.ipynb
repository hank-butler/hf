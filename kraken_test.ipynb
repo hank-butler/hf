{
 "cells": [
  {
   "cell_type": "code",
   "execution_count": 2,
   "metadata": {},
   "outputs": [],
   "source": [
    "from utils import kraken_ex as kex"
   ]
  },
  {
   "cell_type": "code",
   "execution_count": 3,
   "metadata": {},
   "outputs": [
    {
     "name": "stdout",
     "output_type": "stream",
     "text": [
      "Pulled _BTC at 2021-10-13 16:59:15.407099\n"
     ]
    }
   ],
   "source": [
    "btc = kex.pull_data('BTC')"
   ]
  },
  {
   "cell_type": "code",
   "execution_count": 4,
   "metadata": {},
   "outputs": [
    {
     "data": {
      "text/html": [
       "<div>\n",
       "<style scoped>\n",
       "    .dataframe tbody tr th:only-of-type {\n",
       "        vertical-align: middle;\n",
       "    }\n",
       "\n",
       "    .dataframe tbody tr th {\n",
       "        vertical-align: top;\n",
       "    }\n",
       "\n",
       "    .dataframe thead th {\n",
       "        text-align: right;\n",
       "    }\n",
       "</style>\n",
       "<table border=\"1\" class=\"dataframe\">\n",
       "  <thead>\n",
       "    <tr style=\"text-align: right;\">\n",
       "      <th></th>\n",
       "      <th>time</th>\n",
       "      <th>open_BTC</th>\n",
       "      <th>high_BTC</th>\n",
       "      <th>low_BTC</th>\n",
       "      <th>close_BTC</th>\n",
       "      <th>vwap_BTC</th>\n",
       "      <th>volume_BTC</th>\n",
       "      <th>count_BTC</th>\n",
       "      <th>log_high_BTC</th>\n",
       "      <th>log_low_BTC</th>\n",
       "      <th>log_vwap_BTC</th>\n",
       "    </tr>\n",
       "    <tr>\n",
       "      <th>dtime</th>\n",
       "      <th></th>\n",
       "      <th></th>\n",
       "      <th></th>\n",
       "      <th></th>\n",
       "      <th></th>\n",
       "      <th></th>\n",
       "      <th></th>\n",
       "      <th></th>\n",
       "      <th></th>\n",
       "      <th></th>\n",
       "      <th></th>\n",
       "    </tr>\n",
       "  </thead>\n",
       "  <tbody>\n",
       "    <tr>\n",
       "      <th>2021-10-13</th>\n",
       "      <td>1634083200</td>\n",
       "      <td>55991.9</td>\n",
       "      <td>57777.0</td>\n",
       "      <td>54271.2</td>\n",
       "      <td>57393.2</td>\n",
       "      <td>56010.0</td>\n",
       "      <td>2976.156514</td>\n",
       "      <td>32527</td>\n",
       "      <td>10.964346</td>\n",
       "      <td>10.901749</td>\n",
       "      <td>10.933286</td>\n",
       "    </tr>\n",
       "    <tr>\n",
       "      <th>2021-10-12</th>\n",
       "      <td>1633996800</td>\n",
       "      <td>57482.8</td>\n",
       "      <td>57673.8</td>\n",
       "      <td>54019.2</td>\n",
       "      <td>56010.1</td>\n",
       "      <td>56159.5</td>\n",
       "      <td>3699.836733</td>\n",
       "      <td>36112</td>\n",
       "      <td>10.962558</td>\n",
       "      <td>10.897095</td>\n",
       "      <td>10.935951</td>\n",
       "    </tr>\n",
       "    <tr>\n",
       "      <th>2021-10-11</th>\n",
       "      <td>1633910400</td>\n",
       "      <td>54678.9</td>\n",
       "      <td>57837.7</td>\n",
       "      <td>54450.2</td>\n",
       "      <td>57499.5</td>\n",
       "      <td>56782.1</td>\n",
       "      <td>2787.096129</td>\n",
       "      <td>31938</td>\n",
       "      <td>10.965396</td>\n",
       "      <td>10.905042</td>\n",
       "      <td>10.946976</td>\n",
       "    </tr>\n",
       "    <tr>\n",
       "      <th>2021-10-10</th>\n",
       "      <td>1633824000</td>\n",
       "      <td>54967.4</td>\n",
       "      <td>56500.0</td>\n",
       "      <td>54118.6</td>\n",
       "      <td>54677.5</td>\n",
       "      <td>55222.9</td>\n",
       "      <td>2295.108181</td>\n",
       "      <td>25688</td>\n",
       "      <td>10.941996</td>\n",
       "      <td>10.898933</td>\n",
       "      <td>10.919133</td>\n",
       "    </tr>\n",
       "    <tr>\n",
       "      <th>2021-10-09</th>\n",
       "      <td>1633737600</td>\n",
       "      <td>53960.9</td>\n",
       "      <td>55515.1</td>\n",
       "      <td>53700.0</td>\n",
       "      <td>54960.2</td>\n",
       "      <td>54827.9</td>\n",
       "      <td>1238.788542</td>\n",
       "      <td>19258</td>\n",
       "      <td>10.924410</td>\n",
       "      <td>10.891168</td>\n",
       "      <td>10.911954</td>\n",
       "    </tr>\n",
       "  </tbody>\n",
       "</table>\n",
       "</div>"
      ],
      "text/plain": [
       "                  time  open_BTC  high_BTC  low_BTC  close_BTC  vwap_BTC  \\\n",
       "dtime                                                                      \n",
       "2021-10-13  1634083200   55991.9   57777.0  54271.2    57393.2   56010.0   \n",
       "2021-10-12  1633996800   57482.8   57673.8  54019.2    56010.1   56159.5   \n",
       "2021-10-11  1633910400   54678.9   57837.7  54450.2    57499.5   56782.1   \n",
       "2021-10-10  1633824000   54967.4   56500.0  54118.6    54677.5   55222.9   \n",
       "2021-10-09  1633737600   53960.9   55515.1  53700.0    54960.2   54827.9   \n",
       "\n",
       "             volume_BTC  count_BTC  log_high_BTC  log_low_BTC  log_vwap_BTC  \n",
       "dtime                                                                        \n",
       "2021-10-13  2976.156514      32527     10.964346    10.901749     10.933286  \n",
       "2021-10-12  3699.836733      36112     10.962558    10.897095     10.935951  \n",
       "2021-10-11  2787.096129      31938     10.965396    10.905042     10.946976  \n",
       "2021-10-10  2295.108181      25688     10.941996    10.898933     10.919133  \n",
       "2021-10-09  1238.788542      19258     10.924410    10.891168     10.911954  "
      ]
     },
     "execution_count": 4,
     "metadata": {},
     "output_type": "execute_result"
    }
   ],
   "source": [
    "btc.head()"
   ]
  },
  {
   "cell_type": "code",
   "execution_count": 5,
   "metadata": {},
   "outputs": [],
   "source": [
    "import pandas as pd"
   ]
  },
  {
   "cell_type": "code",
   "execution_count": 6,
   "metadata": {},
   "outputs": [
    {
     "data": {
      "text/plain": [
       "<AxesSubplot:xlabel='dtime'>"
      ]
     },
     "execution_count": 6,
     "metadata": {},
     "output_type": "execute_result"
    },
    {
     "data": {
      "image/png": "[encoded data removed]",
      "text/plain": [
       "<Figure size 432x288 with 1 Axes>"
      ]
     },
     "metadata": {
      "needs_background": "light"
     },
     "output_type": "display_data"
    }
   ],
   "source": [
    "btc['vwap_BTC'].plot()"
   ]
  },
  {
   "cell_type": "code",
   "execution_count": null,
   "metadata": {},
   "outputs": [],
   "source": []
  }
 ],
 "metadata": {
  "kernelspec": {
   "display_name": "Python 3",
   "language": "python",
   "name": "python3"
  },
  "language_info": {
   "codemirror_mode": {
    "name": "ipython",
    "version": 3
   },
   "file_extension": ".py",
   "mimetype": "text/x-python",
   "name": "python",
   "nbconvert_exporter": "python",
   "pygments_lexer": "ipython3",
   "version": "3.8.5"
  }
 },
 "nbformat": 4,
 "nbformat_minor": 4
}
