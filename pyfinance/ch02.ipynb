{
 "cells": [
  {
   "cell_type": "code",
   "execution_count": 1,
   "metadata": {},
   "outputs": [],
   "source": [
    "import pandas as pd\n",
    "import numpy as np"
   ]
  },
  {
   "cell_type": "code",
   "execution_count": 2,
   "metadata": {},
   "outputs": [
    {
     "data": {
      "image/png": "[encoded data removed]",
      "text/plain": [
       "<Figure size 432x288 with 1 Axes>"
      ]
     },
     "metadata": {
      "needs_background": "light"
     },
     "output_type": "display_data"
    }
   ],
   "source": [
    "x = np.random.random(1000)\n",
    "\n",
    "import matplotlib.pyplot as plt\n",
    "\n",
    "plt.plot(x);"
   ]
  },
  {
   "cell_type": "code",
   "execution_count": 3,
   "metadata": {},
   "outputs": [],
   "source": [
    "from tqdm import tqdm"
   ]
  },
  {
   "cell_type": "code",
   "execution_count": 4,
   "metadata": {},
   "outputs": [
    {
     "name": "stderr",
     "output_type": "stream",
     "text": [
      "100%|██████████| 100000/100000 [00:00<00:00, 2178700.77it/s]\n"
     ]
    }
   ],
   "source": [
    "for _ in tqdm(range(100000)):\n",
    "    pass"
   ]
  },
  {
   "cell_type": "code",
   "execution_count": 11,
   "metadata": {},
   "outputs": [
    {
     "data": {
      "text/plain": [
       "200"
      ]
     },
     "execution_count": 11,
     "metadata": {},
     "output_type": "execute_result"
    }
   ],
   "source": [
    "import requests\n",
    "\n",
    "demo = requests.get(\"https://www.alphavantage.co/query?function=TIME_SERIES_INTRADAY&symbol=IBM&interval=5min&apikey=demo\")\n",
    "demo.status_code\n"
   ]
  },
  {
   "cell_type": "code",
   "execution_count": 12,
   "metadata": {},
   "outputs": [
    {
     "data": {
      "text/plain": [
       "{'1. Information': 'Intraday (5min) open, high, low, close prices and volume',\n",
       " '2. Symbol': 'IBM',\n",
       " '3. Last Refreshed': '2021-11-12 20:00:00',\n",
       " '4. Interval': '5min',\n",
       " '5. Output Size': 'Compact',\n",
       " '6. Time Zone': 'US/Eastern'}"
      ]
     },
     "execution_count": 12,
     "metadata": {},
     "output_type": "execute_result"
    }
   ],
   "source": [
    "demo.json()['Meta Data']"
   ]
  },
  {
   "cell_type": "code",
   "execution_count": 15,
   "metadata": {},
   "outputs": [
    {
     "data": {
      "text/html": [
       "<div>\n",
       "<style scoped>\n",
       "    .dataframe tbody tr th:only-of-type {\n",
       "        vertical-align: middle;\n",
       "    }\n",
       "\n",
       "    .dataframe tbody tr th {\n",
       "        vertical-align: top;\n",
       "    }\n",
       "\n",
       "    .dataframe thead th {\n",
       "        text-align: right;\n",
       "    }\n",
       "</style>\n",
       "<table border=\"1\" class=\"dataframe\">\n",
       "  <thead>\n",
       "    <tr style=\"text-align: right;\">\n",
       "      <th></th>\n",
       "      <th>1. open</th>\n",
       "      <th>2. high</th>\n",
       "      <th>3. low</th>\n",
       "      <th>4. close</th>\n",
       "      <th>5. volume</th>\n",
       "    </tr>\n",
       "  </thead>\n",
       "  <tbody>\n",
       "    <tr>\n",
       "      <th>2021-11-12 20:00:00</th>\n",
       "      <td>119.0500</td>\n",
       "      <td>119.0500</td>\n",
       "      <td>119.0000</td>\n",
       "      <td>119.0000</td>\n",
       "      <td>1672</td>\n",
       "    </tr>\n",
       "    <tr>\n",
       "      <th>2021-11-12 19:40:00</th>\n",
       "      <td>119.1500</td>\n",
       "      <td>119.1500</td>\n",
       "      <td>119.1500</td>\n",
       "      <td>119.1500</td>\n",
       "      <td>500</td>\n",
       "    </tr>\n",
       "    <tr>\n",
       "      <th>2021-11-12 19:25:00</th>\n",
       "      <td>119.1600</td>\n",
       "      <td>119.1600</td>\n",
       "      <td>119.1600</td>\n",
       "      <td>119.1600</td>\n",
       "      <td>200</td>\n",
       "    </tr>\n",
       "    <tr>\n",
       "      <th>2021-11-12 17:55:00</th>\n",
       "      <td>119.0100</td>\n",
       "      <td>119.0100</td>\n",
       "      <td>119.0100</td>\n",
       "      <td>119.0100</td>\n",
       "      <td>100</td>\n",
       "    </tr>\n",
       "    <tr>\n",
       "      <th>2021-11-12 17:50:00</th>\n",
       "      <td>119.1000</td>\n",
       "      <td>119.1000</td>\n",
       "      <td>119.1000</td>\n",
       "      <td>119.1000</td>\n",
       "      <td>100</td>\n",
       "    </tr>\n",
       "  </tbody>\n",
       "</table>\n",
       "</div>"
      ],
      "text/plain": [
       "                      1. open   2. high    3. low  4. close 5. volume\n",
       "2021-11-12 20:00:00  119.0500  119.0500  119.0000  119.0000      1672\n",
       "2021-11-12 19:40:00  119.1500  119.1500  119.1500  119.1500       500\n",
       "2021-11-12 19:25:00  119.1600  119.1600  119.1600  119.1600       200\n",
       "2021-11-12 17:55:00  119.0100  119.0100  119.0100  119.0100       100\n",
       "2021-11-12 17:50:00  119.1000  119.1000  119.1000  119.1000       100"
      ]
     },
     "execution_count": 15,
     "metadata": {},
     "output_type": "execute_result"
    }
   ],
   "source": [
    "df = pd.DataFrame(demo.json()['Time Series (5min)']).T\n",
    "df.head()"
   ]
  },
  {
   "cell_type": "code",
   "execution_count": null,
   "metadata": {},
   "outputs": [],
   "source": []
  }
 ],
 "metadata": {
  "kernelspec": {
   "display_name": "Python 3",
   "language": "python",
   "name": "python3"
  },
  "language_info": {
   "codemirror_mode": {
    "name": "ipython",
    "version": 3
   },
   "file_extension": ".py",
   "mimetype": "text/x-python",
   "name": "python",
   "nbconvert_exporter": "python",
   "pygments_lexer": "ipython3",
   "version": "3.8.5"
  }
 },
 "nbformat": 4,
 "nbformat_minor": 4
}
